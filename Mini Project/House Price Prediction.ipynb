{
 "cells": [
  {
   "cell_type": "code",
   "execution_count": 14,
   "id": "23a6e550-4f0f-4eaa-bfa7-b7c82cfb9dff",
   "metadata": {},
   "outputs": [],
   "source": [
    "# Import required libraries\n",
    "import pandas as pd\n",
    "from sklearn.compose import ColumnTransformer\n",
    "from sklearn.impute import SimpleImputer\n",
    "from sklearn.pipeline import Pipeline\n",
    "from sklearn.preprocessing import OneHotEncoder\n",
    "from sklearn.ensemble import RandomForestRegressor\n",
    "\n",
    "data = pd.read_csv('train.csv') # Read in the data\n",
    "data.dropna(subset = ['SalePrice'], axis = 0, inplace = True) # Delete every record that does not have the saleprice\n",
    "y = data.SalePrice \n",
    "object_cols = [col for col in data.columns if data[col].dtype == 'object' and data[col].nunique()<15] # Select categorical table\n",
    "numerical_cols = [col for col in data.columns if data[col].dtype in ['int64', 'float64']] # Select numerical columns\n",
    "X = data[numerical_cols + object_cols]"
   ]
  },
  {
   "cell_type": "code",
   "execution_count": 17,
   "id": "1c00375d-5492-4a78-b66a-fc5ad11cfcd0",
   "metadata": {},
   "outputs": [],
   "source": [
    "# Creating Pipeline\n",
    "# Preprocessing for numerical data\n",
    "numerical_prep = SimpleImputer(strategy='most_frequent')\n",
    "\n",
    "# Preprocessing for categorical data\n",
    "categorical_prep = Pipeline(steps = [\n",
    "    ('impute', SimpleImputer(strategy='most_frequent')),\n",
    "    ('onehot', OneHotEncoder(handle_unknown='ignore'))\n",
    "])\n",
    "\n",
    "# Bundle together the preprocessing steps\n",
    "preprocessor = ColumnTransformer(transformers = [\n",
    "    ('numerical', numerical_prep, numerical_cols),\n",
    "    ('categorical', categorical_prep, object_cols)\n",
    "])\n",
    "# Select Random Forest as the model\n",
    "model = RandomForestRegressor(n_estimators=100)\n",
    "\n",
    "clf = Pipeline(steps=[('preprocessor', preprocessor),\n",
    "                      ('model', model)\n",
    "                     ])\n",
    "\n",
    "clf.fit(X_train, y_train)"
   ]
  },
  {
   "cell_type": "code",
   "execution_count": null,
   "id": "63c88559-1039-4971-a2d5-c33a9a54945a",
   "metadata": {},
   "outputs": [],
   "source": [
    "# Splitting train and test data"
   ]
  }
 ],
 "metadata": {
  "kernelspec": {
   "display_name": "Python 3 (ipykernel)",
   "language": "python",
   "name": "python3"
  },
  "language_info": {
   "codemirror_mode": {
    "name": "ipython",
    "version": 3
   },
   "file_extension": ".py",
   "mimetype": "text/x-python",
   "name": "python",
   "nbconvert_exporter": "python",
   "pygments_lexer": "ipython3",
   "version": "3.11.4"
  }
 },
 "nbformat": 4,
 "nbformat_minor": 5
}
