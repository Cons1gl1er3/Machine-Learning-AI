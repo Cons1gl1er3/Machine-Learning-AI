{
 "cells": [
  {
   "cell_type": "code",
   "execution_count": 1,
   "id": "8bd70f43-3ff6-4376-897c-e03681bc2c11",
   "metadata": {},
   "outputs": [],
   "source": [
    "# import basic libraries\n",
    "import numpy as np\n",
    "import matplotlib.pyplot as plt\n",
    "np.random.seed(2)"
   ]
  },
  {
   "cell_type": "code",
   "execution_count": 2,
   "id": "93dc7268-f701-4571-bb90-a0fae394c8ce",
   "metadata": {},
   "outputs": [
    {
     "name": "stdout",
     "output_type": "stream",
     "text": [
      "(2, 20)\n"
     ]
    }
   ],
   "source": [
    "# Insert several data points\n",
    "X = np.array([[0.50, 0.75, 1.00, 1.25, 1.50, 1.75, 1.75, 2.00, 2.25, 2.50, \n",
    "              2.75, 3.00, 3.25, 3.50, 4.00, 4.25, 4.50, 4.75, 5.00, 5.50]])\n",
    "y = np.array([0, 0, 0, 0, 0, 0, 1, 0, 1, 0, 1, 0, 1, 0, 1, 1, 1, 1, 1, 1])\n",
    "\n",
    "# Creating X-bar\n",
    "one = np.ones((1, X.shape[1]))\n",
    "X = np.concatenate((X, one), axis = 0)\n",
    "print(X.shape)"
   ]
  },
  {
   "cell_type": "code",
   "execution_count": 3,
   "id": "3a6616d4-9da1-484f-b074-5ed6240b792e",
   "metadata": {},
   "outputs": [],
   "source": [
    "class LogisticRegression:\n",
    "    def __init__(self, learning_rate, max_iters, check_w_after):\n",
    "        self.learning_rate = learning_rate\n",
    "        self.max_iters = max_iters\n",
    "        self.check_w_after = check_w_after\n",
    "        self.w = None\n",
    "\n",
    "    def sigmoid(self, s):\n",
    "        return 1/(1+np.exp(-s))\n",
    "    \n",
    "    def fit(self, X_train, y_train):\n",
    "        count = 0\n",
    "        m, n = X_train.shape[0], X_train.shape[1]\n",
    "        w_init = np.random.randn(m, 1)\n",
    "        w = w_init\n",
    "        while count<self.max_iters:\n",
    "            mix_id = np.random.permutation(n) # This is one epoch\n",
    "            for i in mix_id:\n",
    "                xi, yi = X_train[:, i].reshape(m, 1), y_train[i]\n",
    "                zi = self.sigmoid(w.T.dot(xi))\n",
    "                w_new = w + self.learning_rate*(yi-zi)*xi\n",
    "                count+=1\n",
    "                if count%self.check_w_after == 0:\n",
    "                    if np.linalg.norm(w_new - w_init) < 1e-4:\n",
    "                        self.w = w_new\n",
    "                        return\n",
    "                    w_init = w_new\n",
    "                    self.w = w_new\n",
    "                w = w_new\n",
    "                \n",
    "    def predict(self, X_valid):\n",
    "        return self.sigmoid(self.w.T.dot(X_valid))"
   ]
  },
  {
   "cell_type": "code",
   "execution_count": 4,
   "id": "478049a8-1136-4d5d-8bd2-40581fd5ae61",
   "metadata": {},
   "outputs": [],
   "source": [
    "clf = LogisticRegression(.05, 10000, 20)\n",
    "clf.fit(X, y)"
   ]
  },
  {
   "cell_type": "code",
   "execution_count": 5,
   "id": "8aafafac-dd92-4fcd-b7b3-64e0041c35da",
   "metadata": {},
   "outputs": [
    {
     "name": "stdout",
     "output_type": "stream",
     "text": [
      "[[0.03501766 0.05078331 0.07310921 0.10417307 0.14635181 0.20176202\n",
      "  0.20176202 0.27147933 0.35458575 0.44750559 0.54424238 0.63775223\n",
      "  0.72188062 0.79281819 0.89267615 0.92460048 0.94758623 0.96383877\n",
      "  0.97518368 0.98842769]]\n"
     ]
    }
   ],
   "source": [
    "pred = clf.predict(X)\n",
    "print(pred)"
   ]
  },
  {
   "cell_type": "code",
   "execution_count": 6,
   "id": "f483eed6-228d-485d-bd32-577641c03a75",
   "metadata": {},
   "outputs": [
    {
     "data": {
      "image/png": "[encoded data removed]",
      "text/plain": [
       "<Figure size 640x480 with 1 Axes>"
      ]
     },
     "metadata": {},
     "output_type": "display_data"
    }
   ],
   "source": [
    "X0 = X[0, np.where(y == 0)][0]\n",
    "y0 = y[np.where(y == 0)]\n",
    "X1 = X[0, np.where(y == 1)][0]\n",
    "y1 = y[np.where(y == 1)]\n",
    "\n",
    "plt.plot(X0, y0, 'ro', markersize = 8)\n",
    "plt.plot(X1, y1, 'bs', markersize = 8)\n",
    "xx = np.linspace(0, 6, 1000)\n",
    "w0, w1 = clf.w[1][0], clf.w[0][0]\n",
    "threshold = -w0/w1\n",
    "yy = clf.sigmoid(w0 + w1*xx)\n",
    "plt.axis([-2, 8, -1, 2])\n",
    "plt.plot(xx, yy, 'g-', linewidth = 2)\n",
    "plt.plot(threshold, .5, 'y^', markersize = 8)\n",
    "plt.xlabel('studying hours')\n",
    "plt.ylabel('predicted probability of pass')\n",
    "plt.show()"
   ]
  }
 ],
 "metadata": {
  "kernelspec": {
   "display_name": "Python 3 (ipykernel)",
   "language": "python",
   "name": "python3"
  },
  "language_info": {
   "codemirror_mode": {
    "name": "ipython",
    "version": 3
   },
   "file_extension": ".py",
   "mimetype": "text/x-python",
   "name": "python",
   "nbconvert_exporter": "python",
   "pygments_lexer": "ipython3",
   "version": "3.11.4"
  }
 },
 "nbformat": 4,
 "nbformat_minor": 5
}
