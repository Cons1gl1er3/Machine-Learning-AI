{
 "cells": [
  {
   "cell_type": "markdown",
   "id": "4e5c89de-284e-42bb-90e2-5833afd0a77a",
   "metadata": {},
   "source": [
    "# Binary classifiers\n",
    "Until now, we have experienced two algorithms for classification: Perceptron Learning Algo and Logistic Regression. In this lesson, we will learn about some application of binary classifiers, and extended way to apply it on multi-class problems"
   ]
  },
  {
   "cell_type": "code",
   "execution_count": null,
   "id": "98a5bc4d-2caf-4607-bbbb-9d2471d1a962",
   "metadata": {},
   "outputs": [],
   "source": []
  }
 ],
 "metadata": {
  "kernelspec": {
   "display_name": "Python 3 (ipykernel)",
   "language": "python",
   "name": "python3"
  },
  "language_info": {
   "codemirror_mode": {
    "name": "ipython",
    "version": 3
   },
   "file_extension": ".py",
   "mimetype": "text/x-python",
   "name": "python",
   "nbconvert_exporter": "python",
   "pygments_lexer": "ipython3",
   "version": "3.11.4"
  }
 },
 "nbformat": 4,
 "nbformat_minor": 5
}
